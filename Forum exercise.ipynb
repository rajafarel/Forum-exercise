{
 "cells": [
  {
   "cell_type": "code",
   "execution_count": null,
   "metadata": {},
   "outputs": [],
   "source": [
    "#1. Write a Python program which accepts the radius of a circle from the user and compute the area\n",
    "from cmath import pi\n",
    "number = float(input(\"Enter the radius of the circle: \"))\n",
    "area = pi*number*number\n",
    "print(\"The area of the circle is: {:.2f}\".format(area) )"
   ]
  },
  {
   "cell_type": "code",
   "execution_count": null,
   "metadata": {},
   "outputs": [],
   "source": [
    "#2.Write a Python program which accepts the user's first and last name and print them in reverse order with a space between them.\n",
    "first_name = input(\"Enter your first name \")\n",
    "last_name = input(\"Enter your last name \")\n",
    "print(\"Hello \",last_name , first_name)"
   ]
  },
  {
   "cell_type": "code",
   "execution_count": null,
   "metadata": {},
   "outputs": [],
   "source": [
    "#3.Write a Python program to display the first and last colors from the following list. color_list = [\"Red\",\"Green\",\"White\",\"Black\"]\n",
    "\n",
    "color_list = [\"Red\",\"Green\",\"White\",\"Black\"]\n",
    "print(color_list[0],color_list[-1])"
   ]
  },
  {
   "cell_type": "code",
   "execution_count": null,
   "metadata": {},
   "outputs": [],
   "source": [
    "#4. Write a Python program that accepts an integer (n) and computes the value of n+nn+nnn.\n",
    "number = int(input(\"Input an integer \"))\n",
    "value = str(number)\n",
    "number_1 = value+value\n",
    "number_2 = value+value+value\n",
    "total = number+int(number_1)+int(number_2)\n",
    "print(\"The value is :\",total)\n"
   ]
  },
  {
   "cell_type": "code",
   "execution_count": null,
   "metadata": {},
   "outputs": [],
   "source": [
    "#5. Write a Python program to get the volume of a sphere with radius 6.\n",
    "The volume of the sphere is : V = 4/3 × π × r3 = π × d3/6.\n",
    "from math import pi\n",
    "r = int(input(\"Enter a radius: \"))\n",
    "v = 4/3*pi*r*r*r\n",
    "print(\"Volume of sphere is :\",format(v))"
   ]
  },
  {
   "cell_type": "code",
   "execution_count": null,
   "metadata": {},
   "outputs": [],
   "source": [
    "#6.Write a Python program to get the difference between a given number and 17, if the number is greater than 17 return double the absolute difference.\n",
    "number = int(input(\"Enter a number \"))\n",
    "\n",
    "if number > 17:\n",
    "    print((int(number)-17)*2)\n",
    "else :\n",
    "    print(int(number)-17)"
   ]
  },
  {
   "cell_type": "code",
   "execution_count": null,
   "metadata": {},
   "outputs": [],
   "source": [
    "#7.Write a Python program to calculate the sum of three given numbers, if the values are equal then return thrice of their sum.\n",
    "\n",
    "x = int(input(\"Enter a number \"))\n",
    "y = int(input(\"Enter a number \"))\n",
    "z = int(input(\"Enter a number \"))\n",
    "sum = x+y+z\n",
    "if x == y == z:\n",
    "    sum2 = (x+y+z)*3\n",
    "    print(sum2)\n",
    "else :\n",
    "    print(sum)"
   ]
  },
  {
   "cell_type": "code",
   "execution_count": null,
   "metadata": {},
   "outputs": [],
   "source": [
    "8. Write a Python program to find whether a given number (accept from the user) is even or odd, print out an appropriate message to the user.\n",
    "\n",
    "number = int(input(\"Enter a number \"))\n",
    " \n",
    "if number % 2 ==0:\n",
    "    print(\"This is a even number\")\n",
    "else:\n",
    "    print(\"This is a odd number\")\n"
   ]
  },
  {
   "cell_type": "code",
   "execution_count": null,
   "metadata": {},
   "outputs": [],
   "source": [
    "#9.Write a Python program to test whether a letter is a vowel or not.\n",
    "v = input(\"Enter a alphabet \")\n",
    "\n",
    "if v in [\"a\",\"i\",\"u\",\"e\",\"o\"]:\n",
    "    print(\"This alphabet is a vowel\")\n",
    "else:\n",
    "    print(\"This alphabet is not a vowel\")"
   ]
  },
  {
   "cell_type": "code",
   "execution_count": null,
   "metadata": {},
   "outputs": [],
   "source": [
    "#10.Write a Python program to check whether a specified value is contained in a group of value\n",
    "v = int(input(\"Enter a Value \"))\n",
    "if v in [1,2,5,4,8,6,9]:\n",
    "    print(\"This value is contained in the group of value\")\n",
    "else:\n",
    "    print(\"This value is not contained in the group of value\")"
   ]
  },
  {
   "cell_type": "code",
   "execution_count": null,
   "metadata": {},
   "outputs": [],
   "source": [
    "#11.Write a Python program to create a histogram from a given list of integers.\n",
    "#from tkinter import N\n",
    "\n",
    "\n",
    "def histogram( items ):\n",
    "    for n in items:\n",
    "        output = ''\n",
    "        times = n\n",
    "        while( times > 0 ):\n",
    "          output += '*'\n",
    "          times = times - 1\n",
    "        print(output)\n",
    "\n",
    "histogram([7, 1, 3, 8])\n",
    "\n"
   ]
  },
  {
   "cell_type": "code",
   "execution_count": null,
   "metadata": {},
   "outputs": [],
   "source": [
    "#12.Write a Python program to print all even numbers from a given numbers list in the same order.\n",
    "Sample numbers list :\n",
    "numbers = [\n",
    " 386, 462, 47, 418, 907, 344, 236, 375, 823, 566, 597, 978, 328, 615, 953, 345,\n",
    " 399, 162, 758, 219, 918, 237, 412, 566, 826, 248, 866, 950, 626, 949, 687, 217,\n",
    " 815, 67, 104, 58, 512, 24, 892, 894, 767, 553, 81, 379, 843, 831, 445, 742, 717,\n",
    " 958,743, 527 ]\n",
    " \n",
    "number = [386, 462, 47, 418, 907, 344, 236, 375, 823, 566, 597, 978, 328, 615, 953, 345,399, 162, 758, 219, 918, 237, 412, 566, 826, 248, 866, 950, 626, 949, 687, 217,815, 67, 104, 58, 512, 24, 892, 894, 767, 553, 81, 379, 843, 831, 445, 742, 717,958,743, 527]\n",
    "\n",
    "for i in number:\n",
    "    if i%2 == 0:\n",
    "       print(i, end = \" \")"
   ]
  },
  {
   "cell_type": "code",
   "execution_count": null,
   "metadata": {},
   "outputs": [],
   "source": [
    "#13.Write a Python program that will accept the base and height of a triangle and compute the area.\n",
    "base = int(input(\"Enter a base \"))\n",
    "height = int(input(\"Enter a height \"))\n",
    "\n",
    "area = base*height/2\n",
    "\n",
    "print(\"The area of triangle is \", format(area))\n"
   ]
  },
  {
   "cell_type": "code",
   "execution_count": null,
   "metadata": {},
   "outputs": [],
   "source": [
    "#14.Write a Python program to get the least common multiple (LCM) of two positive integers.\n",
    "\n",
    "number_1 = int(input(\"Enter a number \"))\n",
    "number_2 = int(input(\"Enter a number \"))\n",
    "for i in range(max(number_1, number_2), 1 + (number_1 * number_2)):\n",
    "    if i % number_1 == i % number_2 == 0:\n",
    "        lcm = i\n",
    "        break\n",
    "print(\"LCM of\", number_1, \"and\", number_2, \"is\", lcm)"
   ]
  },
  {
   "cell_type": "code",
   "execution_count": null,
   "metadata": {},
   "outputs": [],
   "source": [
    "#15. Write a Python program to sum of three given integers. However, if two values are equal sum will be zero.\n",
    "\n",
    "x = int(input(\"Enter a number \"))\n",
    "y = int(input(\"Enter a number \"))\n",
    "z = int(input(\"Enter a number \"))\n",
    "sum = x+y+z\n",
    "if x == y or x==z or y==z:\n",
    "    sum2 = 0\n",
    "    print(sum2)\n",
    "else :\n",
    "    print(sum)"
   ]
  },
  {
   "cell_type": "code",
   "execution_count": null,
   "metadata": {},
   "outputs": [],
   "source": [
    "#16.Write a Python program to solve (x + y) * (x + y).\n",
    "Sample Data : x = 4, y = 3\n",
    "Expected Output : (4 + 3) ^ 2) = 49\n",
    "\n",
    "x = int(input(\"Enter a x value \"))\n",
    "y = int(input(\"Enter a y value \"))\n",
    "result = x * x + 2 * x * y + y * y\n",
    "print(\"({} + {}) ^ 2) = {}\".format(x, y, result))"
   ]
  },
  {
   "cell_type": "code",
   "execution_count": null,
   "metadata": {},
   "outputs": [],
   "source": [
    "#17.Write a Python program to compute the future value of a specified principal amount, rate of interest, and a number of years.\n",
    "Sample Data : amt = 10000, int = 3.5, years = 7\n",
    "Expected Output : 12722.79\n",
    "amt = float(input(\"Enter amt \"))\n",
    "int = float(input(\"Enter int \"))\n",
    "years = float(input(\"Enter year \"))\n",
    "future_value = amt*((1+(0.01*int)) ** years)\n",
    "print(\"Future value is {:.2f}\".format(future_value))\n"
   ]
  },
  {
   "cell_type": "code",
   "execution_count": null,
   "metadata": {},
   "outputs": [],
   "source": [
    "#18. Write a Python program to compute the distance between the points (x1, y1) and (x2, y2)\n",
    "x1 = float(input(\"Enter x1 \"))\n",
    "y1 = float(input(\"Enter y1 \"))\n",
    "x2 = float(input(\"Enter x2 \"))\n",
    "y2 = float(input(\"Enter y2 \"))\n",
    "distance = ( (x2-x1)**2 + (y2-y1)**2 ) ** 0.5\n",
    "print(\"distance between\",(x1,x2),\"and\",(y1,y2),\"is : \",distance)"
   ]
  },
  {
   "cell_type": "code",
   "execution_count": null,
   "metadata": {},
   "outputs": [],
   "source": [
    "#19.Write a python program to sum of the first n positive integers\n",
    "\n",
    "n = int(input(\"Input a number: \"))\n",
    "sum = (n * (n + 1)) / 2\n",
    "print(\"Sum of the first\", n ,\"positive integers:\", sum)"
   ]
  },
  {
   "cell_type": "code",
   "execution_count": null,
   "metadata": {},
   "outputs": [],
   "source": [
    "#20.Write a Python program to convert height (in feet and inches) to centimeters.\n",
    "\n",
    "print(\"Input your height: \")\n",
    "feet = int(input(\"Feet: \"))\n",
    "inch = int(input(\"Inches: \"))\n",
    "\n",
    "inch += feet * 12\n",
    "height_cm = round(inch * 2.54, 1)\n",
    "\n",
    "print(\"Your height is : %d cm.\" % height_cm)"
   ]
  },
  {
   "cell_type": "code",
   "execution_count": null,
   "metadata": {},
   "outputs": [],
   "source": [
    "#21.Write a Python program to calculate the hypotenuse of a right angled triangle.\n",
    "\n",
    "from math import sqrt\n",
    "print(\"Input lengths of triangle sides:\")\n",
    "a = float(input(\"a: \"))\n",
    "b = float(input(\"b: \"))\n",
    "c = sqrt(a**2 + b**2)\n",
    "print(\"The length of the hypotenuse is:\", c )\n"
   ]
  },
  {
   "cell_type": "code",
   "execution_count": null,
   "metadata": {},
   "outputs": [],
   "source": [
    "#22.Write a Python program to calculate body mass index.\n",
    "\n",
    "height = float(input(\"Input your height in meter: \"))\n",
    "weight = float(input(\"Input your weight in Kilogram: \"))\n",
    "s_height = height*height\n",
    "bmi = weight/s_height\n",
    "print(\"Your body mass index is {:.2f} \".format(bmi))"
   ]
  },
  {
   "cell_type": "code",
   "execution_count": null,
   "metadata": {},
   "outputs": [],
   "source": [
    "#23.Write a Python program to calculate midpoints of a line.\n",
    "\n",
    "print(\"Calculate the midpoint of a line \")\n",
    "\n",
    "x1 = float(input(\"The value of x (the first endpoint) \"))\n",
    "y1 = float(input(\"The value of y (the first endpoint) \"))\n",
    "\n",
    "x2 = float(input(\"The value of x (the first endpoint) \"))\n",
    "y2 = float(input(\"The value of y (the first endpoint) \"))\n",
    "\n",
    "x_m_point = (x1 + x2)/2\n",
    "y_m_point = (y1 + y2)/2\n",
    "\n",
    "print(\"The midpoint of line is :\")\n",
    "print( \"The midpoint's x value is: \",x_m_point)\n",
    "print( \"The midpoint's y value is: \",y_m_point)\n"
   ]
  },
  {
   "cell_type": "code",
   "execution_count": null,
   "metadata": {},
   "outputs": [],
   "source": [
    "#24.Write a program which will find all such numbers which are divisible by 7 but are not a multiple of 5, between 2000 and 3200 (both included). The numbers obtained should be printed in a comma-separated sequence on a single line.\n",
    "#Hints:\n",
    "#Consider use range(#begin, #end) method\n",
    "\n",
    "number = []\n",
    "for i in range(2000,3200):\n",
    "    if (i%7==0) and (i%5==0):\n",
    "        number.append(str(i))\n",
    "print (number)"
   ]
  }
 ],
 "metadata": {
  "kernelspec": {
   "display_name": "Python 3.10.7 64-bit",
   "language": "python",
   "name": "python3"
  },
  "language_info": {
   "name": "python",
   "version": "3.10.7"
  },
  "orig_nbformat": 4,
  "vscode": {
   "interpreter": {
    "hash": "5868cae2ba662c6375216d195b7526ff910cb4ee64e9ead123d0039383cd46cb"
   }
  }
 },
 "nbformat": 4,
 "nbformat_minor": 2
}
